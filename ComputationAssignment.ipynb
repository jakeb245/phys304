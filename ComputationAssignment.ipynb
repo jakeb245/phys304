{
 "cells": [
  {
   "cell_type": "markdown",
   "id": "9bd0258f-0cb4-4c3f-8cee-4629108ab472",
   "metadata": {},
   "source": [
    "# PHYS 304 Computing Project - Relaxation Method\n",
    "### Name: Jacob Buchanan\n",
    "\n",
    "Consider a closed metal box having a rectangular cross section $a \\times b \\times c$. The lid (in figure) is located in the $xy$-plane at $z=c$ and is maintained at a potential $V_0$ relative to the other five sides of the box which are connected to the ground. Imagine the lid is electrically isolated from the rest of the box.\n",
    "\n",
    "The full potential is given by,\n",
    "\n",
    "$V(x,y,z)=\\frac{16V_0}{\\pi^2}\\sum_{m,n=odd}^{\\infty}\\frac{1}{mn}\\sin{\\frac{m\\pi x}{a}}\\sin{\\frac{n\\pi y}{b}}\\frac{\\sinh{\\gamma_{mn}z}}{\\sinh{\\gamma_{mn}c}}$\n",
    "\n",
    "where $m$ and $n$ are odd integers and $\\gamma_{mn}=\\pi \\sqrt{\\frac{m^2}{a^2}+\\frac{n^2}{b^2}}$.\n",
    "\n",
    "Approximate solutions for $V(x,y,z)$ may be obtained by truncating the infinite series at specified upper limits for both of the summations in the expression for V above.\n",
    "\n",
    "Let $a=b=c=10cm$ and $V_0=1000V$. Let the tolerance between iterations be $1\\times 10^{-6}$.\n",
    "\n",
    "Now calculate the potential at discrete points inside the box on a lattice having unit cell size $\\Delta x=\\Delta y=\\Delta z=1cm$. For this purpose, take $1\\leq x \\leq 9cm$, $1\\leq y \\leq 9cm$, and $0\\leq z \\leq 9cm$. Produce a grid displaying the potentials (to one decimal place) at twenty evenly space points in the $yz$-plane for $x=5cm$.\n",
    "\n",
    "## Solution"
   ]
  },
  {
   "cell_type": "code",
   "execution_count": 2,
   "id": "754f19b9-2849-41c9-8288-e2c5448f9940",
   "metadata": {},
   "outputs": [],
   "source": [
    "# Import the necessities\n",
    "import numpy as np\n",
    "import matplotlib.pyplot as plt"
   ]
  },
  {
   "cell_type": "code",
   "execution_count": null,
   "id": "2c60f577-ff1f-49be-b9dc-0f4eefe74271",
   "metadata": {},
   "outputs": [],
   "source": []
  }
 ],
 "metadata": {
  "kernelspec": {
   "display_name": "Python 3 (ipykernel)",
   "language": "python",
   "name": "python3"
  },
  "language_info": {
   "codemirror_mode": {
    "name": "ipython",
    "version": 3
   },
   "file_extension": ".py",
   "mimetype": "text/x-python",
   "name": "python",
   "nbconvert_exporter": "python",
   "pygments_lexer": "ipython3",
   "version": "3.9.12"
  }
 },
 "nbformat": 4,
 "nbformat_minor": 5
}
