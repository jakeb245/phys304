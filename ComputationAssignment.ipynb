{
 "cells": [
  {
   "cell_type": "markdown",
   "id": "9bd0258f-0cb4-4c3f-8cee-4629108ab472",
   "metadata": {},
   "source": [
    "# PHYS 304 Computing Project - Relaxation Method\n",
    "### Name: Jacob Buchanan\n",
    "\n",
    "Consider a closed metal box having a rectangular cross section $a \\times b \\times c$. The lid (in figure) is located in the $xy$-plane at $z=c$ and is maintained at a potential $V_0$ relative to the other five sides of the box which are connected to the ground. Imagine the lid is electrically isolated from the rest of the box.\n",
    "\n",
    "The full potential is given by,\n",
    "\n",
    "$$V(x,y,z)=\\frac{16V_0}{\\pi^2}\\sum_{m,n=odd}^{\\infty}\\frac{1}{mn}\\sin{\\frac{m\\pi x}{a}}\\sin{\\frac{n\\pi y}{b}}\\frac{\\sinh{\\gamma_{mn}z}}{\\sinh{\\gamma_{mn}c}}$$\n",
    "\n",
    "where $m$ and $n$ are odd integers and $\\gamma_{mn}=\\pi \\sqrt{\\frac{m^2}{a^2}+\\frac{n^2}{b^2}}$.\n",
    "\n",
    "Approximate solutions for $V(x,y,z)$ may be obtained by truncating the infinite series at specified upper limits for both of the summations in the expression for V above.\n",
    "\n",
    "Let $a=b=c=10cm$ and $V_0=1000V$. Let the tolerance between iterations be $1\\times 10^{-6}$.\n",
    "\n",
    "Now calculate the potential at discrete points inside the box on a lattice having unit cell size $\\Delta x=\\Delta y=\\Delta z=1cm$. For this purpose, take $1\\leq x \\leq 9cm$, $1\\leq y \\leq 9cm$, and $0\\leq z \\leq 9cm$. Produce a grid displaying the potentials (to one decimal place) at twenty evenly space points in the $yz$-plane for $x=5cm$.\n",
    "\n",
    "## Solution"
   ]
  },
  {
   "cell_type": "code",
   "execution_count": 1,
   "id": "754f19b9-2849-41c9-8288-e2c5448f9940",
   "metadata": {},
   "outputs": [],
   "source": [
    "# Import the necessities\n",
    "import numpy as np\n",
    "import matplotlib.pyplot as plt"
   ]
  },
  {
   "cell_type": "markdown",
   "id": "f23f5052-872c-4c4c-8731-e043f5b3918a",
   "metadata": {},
   "source": [
    "#### The Relaxation Method\n",
    "\n",
    "The relaxation method is a numerical method of solution on a grid or lattice. Start with boundary points and set these to their correct values. Then assign starting values arbitrarily to the interior grid points. Next, for each grid point in turn, reset its value to the average of its nearest neighbors. Iterate over the whole set of interior gird points until the changes between iterations are between your set tolerance. "
   ]
  },
  {
   "cell_type": "code",
   "execution_count": 2,
   "id": "ed196b63-e7be-4b3a-aa30-7ae88573c6ca",
   "metadata": {},
   "outputs": [],
   "source": [
    "# First define the parameters of the system\n",
    "\n",
    "a = 10\n",
    "b = 10\n",
    "c = 10\n",
    "\n",
    "v0 = 1000\n",
    "\n",
    "tolerance = 1e-6"
   ]
  },
  {
   "cell_type": "code",
   "execution_count": 3,
   "id": "093152e8-2d41-423a-bd29-de22f4534b68",
   "metadata": {},
   "outputs": [],
   "source": [
    "# Next, define some functions used for the full potential\n",
    "\n",
    "# This is the gamma seen in the full potential\n",
    "def gamma(m, n):\n",
    "    return np.pi * np.sqrt((m**2/a**2)+(n**2/b**2))\n",
    "\n",
    "# This computes one term of the full potential\n",
    "def v_term(x, y, z, m, n):\n",
    "    return (1/(m*n))*np.sin((m*np.pi*x)/a)*np.sin((n*np.pi*y)/b)*np.sinh(gamma(m, n)*z)/np.sinh(gamma(m, n)*c)\n",
    "\n",
    "# This calculates the full potential up to m, n = max_term\n",
    "def v_full(x, y, z, max_term):\n",
    "    v = 0\n",
    "    for m in range(1, max_term+2, 2):\n",
    "        for n in range(1, max_term+2, 2):\n",
    "            v += v_term(x, y, z, m, n)\n",
    "    return v*16*v0/np.pi**2"
   ]
  },
  {
   "cell_type": "code",
   "execution_count": 13,
   "id": "a4ad504d-c636-4167-a93d-e6c934f42450",
   "metadata": {},
   "outputs": [],
   "source": [
    "# Create the grid\n",
    "\n",
    "yi = [1,3,5,7,9]\n",
    "zi = [2,4,6,8]\n",
    "\n",
    "points = []\n",
    "for y in yi:\n",
    "    for z in zi:\n",
    "        points.append([y,z])"
   ]
  },
  {
   "cell_type": "code",
   "execution_count": 15,
   "id": "845a1aeb-e37c-4358-b59c-db06f24cc414",
   "metadata": {},
   "outputs": [
    {
     "name": "stdout",
     "output_type": "stream",
     "text": [
      "[1, 2]\n",
      "[1, 4]\n",
      "[1, 6]\n",
      "[1, 8]\n",
      "[3, 2]\n",
      "[3, 4]\n",
      "[3, 6]\n",
      "[3, 8]\n",
      "[5, 2]\n",
      "[5, 4]\n",
      "[5, 6]\n",
      "[5, 8]\n",
      "[7, 2]\n",
      "[7, 4]\n",
      "[7, 6]\n",
      "[7, 8]\n",
      "[9, 2]\n",
      "[9, 4]\n",
      "[9, 6]\n",
      "[9, 8]\n"
     ]
    },
    {
     "data": {
      "image/png": "[encoded data removed]",
      "text/plain": [
       "<Figure size 640x480 with 1 Axes>"
      ]
     },
     "metadata": {},
     "output_type": "display_data"
    }
   ],
   "source": [
    "# Plot the grid to test it\n",
    "\n",
    "fig = plt.figure()\n",
    "for point in points:\n",
    "    print(point)\n",
    "    plt.plot(point[0],point[1], 'o')\n",
    "plt.show()"
   ]
  },
  {
   "cell_type": "code",
   "execution_count": null,
   "id": "7f9623b5-a90f-4e02-a297-878145a2d113",
   "metadata": {},
   "outputs": [],
   "source": []
  }
 ],
 "metadata": {
  "kernelspec": {
   "display_name": "Python 3 (ipykernel)",
   "language": "python",
   "name": "python3"
  },
  "language_info": {
   "codemirror_mode": {
    "name": "ipython",
    "version": 3
   },
   "file_extension": ".py",
   "mimetype": "text/x-python",
   "name": "python",
   "nbconvert_exporter": "python",
   "pygments_lexer": "ipython3",
   "version": "3.9.12"
  }
 },
 "nbformat": 4,
 "nbformat_minor": 5
}
